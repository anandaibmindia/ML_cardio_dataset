{
 "cells": [
  {
   "cell_type": "code",
   "execution_count": 36,
   "metadata": {},
   "outputs": [
    {
     "name": "stdout",
     "output_type": "stream",
     "text": [
      "(69301, 13)\n"
     ]
    },
    {
     "data": {
      "text/html": [
       "<div>\n",
       "<style scoped>\n",
       "    .dataframe tbody tr th:only-of-type {\n",
       "        vertical-align: middle;\n",
       "    }\n",
       "\n",
       "    .dataframe tbody tr th {\n",
       "        vertical-align: top;\n",
       "    }\n",
       "\n",
       "    .dataframe thead th {\n",
       "        text-align: right;\n",
       "    }\n",
       "</style>\n",
       "<table border=\"1\" class=\"dataframe\">\n",
       "  <thead>\n",
       "    <tr style=\"text-align: right;\">\n",
       "      <th></th>\n",
       "      <th>id</th>\n",
       "      <th>age</th>\n",
       "      <th>gender</th>\n",
       "      <th>height</th>\n",
       "      <th>weight</th>\n",
       "      <th>ap_hi</th>\n",
       "      <th>ap_lo</th>\n",
       "      <th>cholesterol</th>\n",
       "      <th>gluc</th>\n",
       "      <th>smoke</th>\n",
       "      <th>alco</th>\n",
       "      <th>active</th>\n",
       "      <th>cardio</th>\n",
       "    </tr>\n",
       "  </thead>\n",
       "  <tbody>\n",
       "    <tr>\n",
       "      <th>0</th>\n",
       "      <td>988</td>\n",
       "      <td>22469</td>\n",
       "      <td>1</td>\n",
       "      <td>155</td>\n",
       "      <td>69.0</td>\n",
       "      <td>130</td>\n",
       "      <td>80</td>\n",
       "      <td>2</td>\n",
       "      <td>2</td>\n",
       "      <td>0</td>\n",
       "      <td>0</td>\n",
       "      <td>1</td>\n",
       "      <td>0</td>\n",
       "    </tr>\n",
       "    <tr>\n",
       "      <th>1</th>\n",
       "      <td>989</td>\n",
       "      <td>14648</td>\n",
       "      <td>1</td>\n",
       "      <td>163</td>\n",
       "      <td>71.0</td>\n",
       "      <td>110</td>\n",
       "      <td>70</td>\n",
       "      <td>1</td>\n",
       "      <td>1</td>\n",
       "      <td>0</td>\n",
       "      <td>0</td>\n",
       "      <td>1</td>\n",
       "      <td>1</td>\n",
       "    </tr>\n",
       "    <tr>\n",
       "      <th>2</th>\n",
       "      <td>990</td>\n",
       "      <td>21901</td>\n",
       "      <td>1</td>\n",
       "      <td>165</td>\n",
       "      <td>70.0</td>\n",
       "      <td>120</td>\n",
       "      <td>80</td>\n",
       "      <td>1</td>\n",
       "      <td>1</td>\n",
       "      <td>0</td>\n",
       "      <td>0</td>\n",
       "      <td>1</td>\n",
       "      <td>0</td>\n",
       "    </tr>\n",
       "    <tr>\n",
       "      <th>3</th>\n",
       "      <td>991</td>\n",
       "      <td>14549</td>\n",
       "      <td>2</td>\n",
       "      <td>165</td>\n",
       "      <td>85.0</td>\n",
       "      <td>120</td>\n",
       "      <td>80</td>\n",
       "      <td>1</td>\n",
       "      <td>1</td>\n",
       "      <td>1</td>\n",
       "      <td>1</td>\n",
       "      <td>1</td>\n",
       "      <td>0</td>\n",
       "    </tr>\n",
       "    <tr>\n",
       "      <th>4</th>\n",
       "      <td>992</td>\n",
       "      <td>23393</td>\n",
       "      <td>1</td>\n",
       "      <td>155</td>\n",
       "      <td>62.0</td>\n",
       "      <td>120</td>\n",
       "      <td>80</td>\n",
       "      <td>1</td>\n",
       "      <td>1</td>\n",
       "      <td>0</td>\n",
       "      <td>0</td>\n",
       "      <td>1</td>\n",
       "      <td>0</td>\n",
       "    </tr>\n",
       "  </tbody>\n",
       "</table>\n",
       "</div>"
      ],
      "text/plain": [
       "    id    age  gender  height  weight  ap_hi  ap_lo  cholesterol  gluc  smoke  \\\n",
       "0  988  22469       1     155    69.0    130     80            2     2      0   \n",
       "1  989  14648       1     163    71.0    110     70            1     1      0   \n",
       "2  990  21901       1     165    70.0    120     80            1     1      0   \n",
       "3  991  14549       2     165    85.0    120     80            1     1      1   \n",
       "4  992  23393       1     155    62.0    120     80            1     1      0   \n",
       "\n",
       "   alco  active  cardio  \n",
       "0     0       1       0  \n",
       "1     0       1       1  \n",
       "2     0       1       0  \n",
       "3     1       1       0  \n",
       "4     0       1       0  "
      ]
     },
     "execution_count": 36,
     "metadata": {},
     "output_type": "execute_result"
    }
   ],
   "source": [
    "#####################################################################################################################\n",
    "\n",
    "#  The code in the following cell reads and stores the cardio data into data1 dataframe and first 5 is checked\n",
    "#  to see whether data is correctly loaded.\n",
    "\n",
    "####################################################################################################################\n",
    "\n",
    "\n",
    "# The following code is used to ignore warnings that come in the output of jupyter console\n",
    "import warnings\n",
    "warnings.filterwarnings('ignore')\n",
    "\n",
    "\n",
    "import pandas as pd\n",
    "import numpy as np\n",
    "from sklearn.metrics import roc_auc_score\n",
    "\n",
    "\n",
    "# loading or reading diabetes.csv into data1 as a dataframe \n",
    "data1=pd.read_csv('cardio_train.csv',sep=';')\n",
    "\n",
    "# preserving the column names so that we can restore the columns when required\n",
    "columns_original=data1.columns\n",
    "\n",
    "# checking if the data has been successfully loaded or not by seeing top 5 records/observations\n",
    "print(data1.shape)\n",
    "data1.head()"
   ]
  },
  {
   "cell_type": "code",
   "execution_count": 37,
   "metadata": {},
   "outputs": [
    {
     "data": {
      "text/html": [
       "<div>\n",
       "<style scoped>\n",
       "    .dataframe tbody tr th:only-of-type {\n",
       "        vertical-align: middle;\n",
       "    }\n",
       "\n",
       "    .dataframe tbody tr th {\n",
       "        vertical-align: top;\n",
       "    }\n",
       "\n",
       "    .dataframe thead th {\n",
       "        text-align: right;\n",
       "    }\n",
       "</style>\n",
       "<table border=\"1\" class=\"dataframe\">\n",
       "  <thead>\n",
       "    <tr style=\"text-align: right;\">\n",
       "      <th></th>\n",
       "      <th>id</th>\n",
       "      <th>age</th>\n",
       "      <th>gender</th>\n",
       "      <th>height</th>\n",
       "      <th>weight</th>\n",
       "      <th>ap_hi</th>\n",
       "      <th>ap_lo</th>\n",
       "      <th>cholesterol</th>\n",
       "      <th>gluc</th>\n",
       "      <th>smoke</th>\n",
       "      <th>alco</th>\n",
       "      <th>active</th>\n",
       "      <th>cardio</th>\n",
       "    </tr>\n",
       "  </thead>\n",
       "  <tbody>\n",
       "    <tr>\n",
       "      <th>count</th>\n",
       "      <td>69301.000000</td>\n",
       "      <td>69301.000000</td>\n",
       "      <td>69301.000000</td>\n",
       "      <td>69301.000000</td>\n",
       "      <td>69301.000000</td>\n",
       "      <td>69301.000000</td>\n",
       "      <td>69301.000000</td>\n",
       "      <td>69301.000000</td>\n",
       "      <td>69301.000000</td>\n",
       "      <td>69301.000000</td>\n",
       "      <td>69301.000000</td>\n",
       "      <td>69301.000000</td>\n",
       "      <td>69301.000000</td>\n",
       "    </tr>\n",
       "    <tr>\n",
       "      <th>mean</th>\n",
       "      <td>50471.480397</td>\n",
       "      <td>19468.786280</td>\n",
       "      <td>1.349519</td>\n",
       "      <td>164.362217</td>\n",
       "      <td>74.203027</td>\n",
       "      <td>128.829584</td>\n",
       "      <td>96.650092</td>\n",
       "      <td>1.366806</td>\n",
       "      <td>1.226447</td>\n",
       "      <td>0.088051</td>\n",
       "      <td>0.053881</td>\n",
       "      <td>0.803986</td>\n",
       "      <td>0.499589</td>\n",
       "    </tr>\n",
       "    <tr>\n",
       "      <th>std</th>\n",
       "      <td>28563.100347</td>\n",
       "      <td>2467.261818</td>\n",
       "      <td>0.476821</td>\n",
       "      <td>8.205337</td>\n",
       "      <td>14.383469</td>\n",
       "      <td>154.775805</td>\n",
       "      <td>189.096240</td>\n",
       "      <td>0.680270</td>\n",
       "      <td>0.572246</td>\n",
       "      <td>0.283371</td>\n",
       "      <td>0.225784</td>\n",
       "      <td>0.396982</td>\n",
       "      <td>0.500003</td>\n",
       "    </tr>\n",
       "    <tr>\n",
       "      <th>min</th>\n",
       "      <td>988.000000</td>\n",
       "      <td>10798.000000</td>\n",
       "      <td>1.000000</td>\n",
       "      <td>55.000000</td>\n",
       "      <td>10.000000</td>\n",
       "      <td>-150.000000</td>\n",
       "      <td>-70.000000</td>\n",
       "      <td>1.000000</td>\n",
       "      <td>1.000000</td>\n",
       "      <td>0.000000</td>\n",
       "      <td>0.000000</td>\n",
       "      <td>0.000000</td>\n",
       "      <td>0.000000</td>\n",
       "    </tr>\n",
       "    <tr>\n",
       "      <th>25%</th>\n",
       "      <td>25745.000000</td>\n",
       "      <td>17664.000000</td>\n",
       "      <td>1.000000</td>\n",
       "      <td>159.000000</td>\n",
       "      <td>65.000000</td>\n",
       "      <td>120.000000</td>\n",
       "      <td>80.000000</td>\n",
       "      <td>1.000000</td>\n",
       "      <td>1.000000</td>\n",
       "      <td>0.000000</td>\n",
       "      <td>0.000000</td>\n",
       "      <td>1.000000</td>\n",
       "      <td>0.000000</td>\n",
       "    </tr>\n",
       "    <tr>\n",
       "      <th>50%</th>\n",
       "      <td>50494.000000</td>\n",
       "      <td>19704.000000</td>\n",
       "      <td>1.000000</td>\n",
       "      <td>165.000000</td>\n",
       "      <td>72.000000</td>\n",
       "      <td>120.000000</td>\n",
       "      <td>80.000000</td>\n",
       "      <td>1.000000</td>\n",
       "      <td>1.000000</td>\n",
       "      <td>0.000000</td>\n",
       "      <td>0.000000</td>\n",
       "      <td>1.000000</td>\n",
       "      <td>0.000000</td>\n",
       "    </tr>\n",
       "    <tr>\n",
       "      <th>75%</th>\n",
       "      <td>75150.000000</td>\n",
       "      <td>21326.000000</td>\n",
       "      <td>2.000000</td>\n",
       "      <td>170.000000</td>\n",
       "      <td>82.000000</td>\n",
       "      <td>140.000000</td>\n",
       "      <td>90.000000</td>\n",
       "      <td>2.000000</td>\n",
       "      <td>1.000000</td>\n",
       "      <td>0.000000</td>\n",
       "      <td>0.000000</td>\n",
       "      <td>1.000000</td>\n",
       "      <td>1.000000</td>\n",
       "    </tr>\n",
       "    <tr>\n",
       "      <th>max</th>\n",
       "      <td>99999.000000</td>\n",
       "      <td>23713.000000</td>\n",
       "      <td>2.000000</td>\n",
       "      <td>250.000000</td>\n",
       "      <td>200.000000</td>\n",
       "      <td>16020.000000</td>\n",
       "      <td>11000.000000</td>\n",
       "      <td>3.000000</td>\n",
       "      <td>3.000000</td>\n",
       "      <td>1.000000</td>\n",
       "      <td>1.000000</td>\n",
       "      <td>1.000000</td>\n",
       "      <td>1.000000</td>\n",
       "    </tr>\n",
       "  </tbody>\n",
       "</table>\n",
       "</div>"
      ],
      "text/plain": [
       "                 id           age        gender        height        weight  \\\n",
       "count  69301.000000  69301.000000  69301.000000  69301.000000  69301.000000   \n",
       "mean   50471.480397  19468.786280      1.349519    164.362217     74.203027   \n",
       "std    28563.100347   2467.261818      0.476821      8.205337     14.383469   \n",
       "min      988.000000  10798.000000      1.000000     55.000000     10.000000   \n",
       "25%    25745.000000  17664.000000      1.000000    159.000000     65.000000   \n",
       "50%    50494.000000  19704.000000      1.000000    165.000000     72.000000   \n",
       "75%    75150.000000  21326.000000      2.000000    170.000000     82.000000   \n",
       "max    99999.000000  23713.000000      2.000000    250.000000    200.000000   \n",
       "\n",
       "              ap_hi         ap_lo   cholesterol          gluc         smoke  \\\n",
       "count  69301.000000  69301.000000  69301.000000  69301.000000  69301.000000   \n",
       "mean     128.829584     96.650092      1.366806      1.226447      0.088051   \n",
       "std      154.775805    189.096240      0.680270      0.572246      0.283371   \n",
       "min     -150.000000    -70.000000      1.000000      1.000000      0.000000   \n",
       "25%      120.000000     80.000000      1.000000      1.000000      0.000000   \n",
       "50%      120.000000     80.000000      1.000000      1.000000      0.000000   \n",
       "75%      140.000000     90.000000      2.000000      1.000000      0.000000   \n",
       "max    16020.000000  11000.000000      3.000000      3.000000      1.000000   \n",
       "\n",
       "               alco        active        cardio  \n",
       "count  69301.000000  69301.000000  69301.000000  \n",
       "mean       0.053881      0.803986      0.499589  \n",
       "std        0.225784      0.396982      0.500003  \n",
       "min        0.000000      0.000000      0.000000  \n",
       "25%        0.000000      1.000000      0.000000  \n",
       "50%        0.000000      1.000000      0.000000  \n",
       "75%        0.000000      1.000000      1.000000  \n",
       "max        1.000000      1.000000      1.000000  "
      ]
     },
     "execution_count": 37,
     "metadata": {},
     "output_type": "execute_result"
    }
   ],
   "source": [
    "#####################################################################################################################\n",
    "\n",
    "#  chaecking min,max, mean and other description about data\n",
    "\n",
    "####################################################################################################################\n",
    "data1.describe()"
   ]
  },
  {
   "cell_type": "raw",
   "metadata": {},
   "source": [
    "# No null or np.nan values and there is no invalid data for the columns. Minimum value is zero only for smoke,active and alco for features which is valid"
   ]
  },
  {
   "cell_type": "code",
   "execution_count": 38,
   "metadata": {},
   "outputs": [
    {
     "data": {
      "text/plain": [
       "id             0\n",
       "age            0\n",
       "gender         0\n",
       "height         0\n",
       "weight         0\n",
       "ap_hi          0\n",
       "ap_lo          0\n",
       "cholesterol    0\n",
       "gluc           0\n",
       "smoke          0\n",
       "alco           0\n",
       "active         0\n",
       "cardio         0\n",
       "dtype: int64"
      ]
     },
     "execution_count": 38,
     "metadata": {},
     "output_type": "execute_result"
    }
   ],
   "source": [
    "#########################################################\n",
    "# checking if there are any null values\n",
    "#########################################################\n",
    "\n",
    "\n",
    "data1.isnull().sum()"
   ]
  },
  {
   "cell_type": "code",
   "execution_count": 39,
   "metadata": {},
   "outputs": [
    {
     "data": {
      "text/plain": [
       "<matplotlib.axes._subplots.AxesSubplot at 0x1fc8021d760>"
      ]
     },
     "execution_count": 39,
     "metadata": {},
     "output_type": "execute_result"
    },
    {
     "data": {
      "image/png": "[encoded data removed]",
      "text/plain": [
       "<Figure size 1080x720 with 1 Axes>"
      ]
     },
     "metadata": {
      "needs_background": "light"
     },
     "output_type": "display_data"
    }
   ],
   "source": [
    "###################################################################\n",
    "\n",
    "#  Plotting box plot to see if there are any outliers\n",
    "\n",
    "###################################################################\n",
    "\n",
    "import matplotlib.pyplot as plt\n",
    "import seaborn as sns\n",
    "\n",
    "fig, ax = plt.subplots(figsize=(15,10))\n",
    "sns.boxplot(data=data1, width= 0.5,ax=ax,  fliersize=3)\n"
   ]
  },
  {
   "cell_type": "code",
   "execution_count": 40,
   "metadata": {},
   "outputs": [],
   "source": [
    "###################################################################\n",
    "\n",
    "# Removing outliers\n",
    "\n",
    "###################################################################\n",
    "\n",
    "q = data1['ap_hi'].quantile(0.98)\n",
    "# we are removing the top 2% data from the Pregnancies column\n",
    "data_cleaned = data1[data1['ap_hi']<q]\n",
    "q = data_cleaned['ap_lo'].quantile(0.99)\n",
    "# we are removing the top 1% data from the BMI column\n",
    "data_cleaned  = data_cleaned[data_cleaned['ap_lo']<q]"
   ]
  },
  {
   "cell_type": "code",
   "execution_count": 41,
   "metadata": {},
   "outputs": [
    {
     "data": {
      "text/html": [
       "<div>\n",
       "<style scoped>\n",
       "    .dataframe tbody tr th:only-of-type {\n",
       "        vertical-align: middle;\n",
       "    }\n",
       "\n",
       "    .dataframe tbody tr th {\n",
       "        vertical-align: top;\n",
       "    }\n",
       "\n",
       "    .dataframe thead th {\n",
       "        text-align: right;\n",
       "    }\n",
       "</style>\n",
       "<table border=\"1\" class=\"dataframe\">\n",
       "  <thead>\n",
       "    <tr style=\"text-align: right;\">\n",
       "      <th></th>\n",
       "      <th>id</th>\n",
       "      <th>age</th>\n",
       "      <th>gender</th>\n",
       "      <th>height</th>\n",
       "      <th>weight</th>\n",
       "      <th>ap_hi</th>\n",
       "      <th>ap_lo</th>\n",
       "      <th>cholesterol</th>\n",
       "      <th>gluc</th>\n",
       "      <th>smoke</th>\n",
       "      <th>alco</th>\n",
       "      <th>active</th>\n",
       "      <th>cardio</th>\n",
       "    </tr>\n",
       "  </thead>\n",
       "  <tbody>\n",
       "    <tr>\n",
       "      <th>count</th>\n",
       "      <td>66775.000000</td>\n",
       "      <td>66775.000000</td>\n",
       "      <td>66775.000000</td>\n",
       "      <td>66775.000000</td>\n",
       "      <td>66775.000000</td>\n",
       "      <td>66775.000000</td>\n",
       "      <td>66775.000000</td>\n",
       "      <td>66775.000000</td>\n",
       "      <td>66775.000000</td>\n",
       "      <td>66775.000000</td>\n",
       "      <td>66775.000000</td>\n",
       "      <td>66775.000000</td>\n",
       "      <td>66775.000000</td>\n",
       "    </tr>\n",
       "    <tr>\n",
       "      <th>mean</th>\n",
       "      <td>50478.711389</td>\n",
       "      <td>19443.023961</td>\n",
       "      <td>1.347196</td>\n",
       "      <td>164.368222</td>\n",
       "      <td>73.896174</td>\n",
       "      <td>125.043250</td>\n",
       "      <td>81.225129</td>\n",
       "      <td>1.357484</td>\n",
       "      <td>1.222793</td>\n",
       "      <td>0.087278</td>\n",
       "      <td>0.053014</td>\n",
       "      <td>0.803789</td>\n",
       "      <td>0.485960</td>\n",
       "    </tr>\n",
       "    <tr>\n",
       "      <th>std</th>\n",
       "      <td>28572.487199</td>\n",
       "      <td>2470.619432</td>\n",
       "      <td>0.476082</td>\n",
       "      <td>8.178260</td>\n",
       "      <td>14.138677</td>\n",
       "      <td>16.052198</td>\n",
       "      <td>17.836856</td>\n",
       "      <td>0.674130</td>\n",
       "      <td>0.569128</td>\n",
       "      <td>0.282244</td>\n",
       "      <td>0.224063</td>\n",
       "      <td>0.397133</td>\n",
       "      <td>0.499807</td>\n",
       "    </tr>\n",
       "    <tr>\n",
       "      <th>min</th>\n",
       "      <td>988.000000</td>\n",
       "      <td>10798.000000</td>\n",
       "      <td>1.000000</td>\n",
       "      <td>55.000000</td>\n",
       "      <td>11.000000</td>\n",
       "      <td>-150.000000</td>\n",
       "      <td>-70.000000</td>\n",
       "      <td>1.000000</td>\n",
       "      <td>1.000000</td>\n",
       "      <td>0.000000</td>\n",
       "      <td>0.000000</td>\n",
       "      <td>0.000000</td>\n",
       "      <td>0.000000</td>\n",
       "    </tr>\n",
       "    <tr>\n",
       "      <th>25%</th>\n",
       "      <td>25718.500000</td>\n",
       "      <td>17631.000000</td>\n",
       "      <td>1.000000</td>\n",
       "      <td>159.000000</td>\n",
       "      <td>65.000000</td>\n",
       "      <td>120.000000</td>\n",
       "      <td>80.000000</td>\n",
       "      <td>1.000000</td>\n",
       "      <td>1.000000</td>\n",
       "      <td>0.000000</td>\n",
       "      <td>0.000000</td>\n",
       "      <td>1.000000</td>\n",
       "      <td>0.000000</td>\n",
       "    </tr>\n",
       "    <tr>\n",
       "      <th>50%</th>\n",
       "      <td>50523.000000</td>\n",
       "      <td>19690.000000</td>\n",
       "      <td>1.000000</td>\n",
       "      <td>165.000000</td>\n",
       "      <td>72.000000</td>\n",
       "      <td>120.000000</td>\n",
       "      <td>80.000000</td>\n",
       "      <td>1.000000</td>\n",
       "      <td>1.000000</td>\n",
       "      <td>0.000000</td>\n",
       "      <td>0.000000</td>\n",
       "      <td>1.000000</td>\n",
       "      <td>0.000000</td>\n",
       "    </tr>\n",
       "    <tr>\n",
       "      <th>75%</th>\n",
       "      <td>75163.500000</td>\n",
       "      <td>21310.000000</td>\n",
       "      <td>2.000000</td>\n",
       "      <td>170.000000</td>\n",
       "      <td>82.000000</td>\n",
       "      <td>140.000000</td>\n",
       "      <td>90.000000</td>\n",
       "      <td>1.000000</td>\n",
       "      <td>1.000000</td>\n",
       "      <td>0.000000</td>\n",
       "      <td>0.000000</td>\n",
       "      <td>1.000000</td>\n",
       "      <td>1.000000</td>\n",
       "    </tr>\n",
       "    <tr>\n",
       "      <th>max</th>\n",
       "      <td>99999.000000</td>\n",
       "      <td>23713.000000</td>\n",
       "      <td>2.000000</td>\n",
       "      <td>250.000000</td>\n",
       "      <td>200.000000</td>\n",
       "      <td>169.000000</td>\n",
       "      <td>910.000000</td>\n",
       "      <td>3.000000</td>\n",
       "      <td>3.000000</td>\n",
       "      <td>1.000000</td>\n",
       "      <td>1.000000</td>\n",
       "      <td>1.000000</td>\n",
       "      <td>1.000000</td>\n",
       "    </tr>\n",
       "  </tbody>\n",
       "</table>\n",
       "</div>"
      ],
      "text/plain": [
       "                 id           age        gender        height        weight  \\\n",
       "count  66775.000000  66775.000000  66775.000000  66775.000000  66775.000000   \n",
       "mean   50478.711389  19443.023961      1.347196    164.368222     73.896174   \n",
       "std    28572.487199   2470.619432      0.476082      8.178260     14.138677   \n",
       "min      988.000000  10798.000000      1.000000     55.000000     11.000000   \n",
       "25%    25718.500000  17631.000000      1.000000    159.000000     65.000000   \n",
       "50%    50523.000000  19690.000000      1.000000    165.000000     72.000000   \n",
       "75%    75163.500000  21310.000000      2.000000    170.000000     82.000000   \n",
       "max    99999.000000  23713.000000      2.000000    250.000000    200.000000   \n",
       "\n",
       "              ap_hi         ap_lo   cholesterol          gluc         smoke  \\\n",
       "count  66775.000000  66775.000000  66775.000000  66775.000000  66775.000000   \n",
       "mean     125.043250     81.225129      1.357484      1.222793      0.087278   \n",
       "std       16.052198     17.836856      0.674130      0.569128      0.282244   \n",
       "min     -150.000000    -70.000000      1.000000      1.000000      0.000000   \n",
       "25%      120.000000     80.000000      1.000000      1.000000      0.000000   \n",
       "50%      120.000000     80.000000      1.000000      1.000000      0.000000   \n",
       "75%      140.000000     90.000000      1.000000      1.000000      0.000000   \n",
       "max      169.000000    910.000000      3.000000      3.000000      1.000000   \n",
       "\n",
       "               alco        active        cardio  \n",
       "count  66775.000000  66775.000000  66775.000000  \n",
       "mean       0.053014      0.803789      0.485960  \n",
       "std        0.224063      0.397133      0.499807  \n",
       "min        0.000000      0.000000      0.000000  \n",
       "25%        0.000000      1.000000      0.000000  \n",
       "50%        0.000000      1.000000      0.000000  \n",
       "75%        0.000000      1.000000      1.000000  \n",
       "max        1.000000      1.000000      1.000000  "
      ]
     },
     "execution_count": 41,
     "metadata": {},
     "output_type": "execute_result"
    }
   ],
   "source": [
    "data_cleaned.describe()"
   ]
  },
  {
   "cell_type": "code",
   "execution_count": 42,
   "metadata": {},
   "outputs": [],
   "source": [
    "from sklearn.model_selection import train_test_split, RandomizedSearchCV, GridSearchCV\n",
    "from sklearn import linear_model\n",
    "from sklearn.metrics import f1_score,accuracy_score\n",
    "from sklearn.preprocessing import StandardScaler \n",
    "\n",
    "####################################\n",
    "# seperating features and label/target\n",
    "####################################\n",
    "\n",
    "features=data1.drop(columns='cardio')\n",
    "target=data1.cardio\n",
    "\n",
    "\n",
    "################################\n",
    "# sacling the features data \n",
    "################################\n",
    "scalar=StandardScaler()\n",
    "data1_scaled=scalar.fit_transform(features)\n",
    "\n"
   ]
  },
  {
   "cell_type": "raw",
   "metadata": {},
   "source": [
    "# Since the label/target is binary (0,1) we have to choose Classification algorithms.\n",
    "# I have chosen five classification algorithms Log Regression, KNN, Decison Tree, SVC and Random Forest to check which one\n",
    "# gives more accuracy and which is a better model.\n"
   ]
  },
  {
   "cell_type": "code",
   "execution_count": 43,
   "metadata": {},
   "outputs": [
    {
     "name": "stdout",
     "output_type": "stream",
     "text": [
      "Accuracy for Log Regression with out GridSearchCV:::: 0.7280187573270809\n",
      "Fl Score for Log Regression before GridSearchCV :::: 0.7163280662151995\n",
      "-----------------------------------------------------------------------------\n"
     ]
    }
   ],
   "source": [
    "##################################################################################################\n",
    "\n",
    "# The following code is for finding accuracy for Logistic Regression\n",
    "\n",
    "##################################################################################################\n",
    "x_train,x_test,y_train,y_test = train_test_split(data1_scaled,target,test_size = 0.16, random_state= 355)\n",
    "log_reg_1=linear_model.LogisticRegression()\n",
    "log_reg_1.fit(x_train,y_train)\n",
    "print('Accuracy for Log Regression with out GridSearchCV::::',log_reg_1.score(x_test,y_test))\n",
    "\n",
    "log_reg_model_before_GSCV=log_reg_1\n",
    "\n",
    "\n",
    "### The following code is for storing f1 score\n",
    "y_pred=log_reg_1.predict(x_test)\n",
    "print('Fl Score for Log Regression before GridSearchCV ::::', f1_score(y_test,y_pred))\n",
    "F1_LR_Before_CV= f1_score(y_test,y_pred)\n",
    "\n",
    "print('-----------------------------------------------------------------------------')\n",
    "\n"
   ]
  },
  {
   "cell_type": "code",
   "execution_count": 44,
   "metadata": {},
   "outputs": [
    {
     "name": "stdout",
     "output_type": "stream",
     "text": [
      "Acuracy for KNN before CV:::: 0.6390256323204889\n",
      "Fl Score for KNN before CV:::: 0.6352799931395248\n",
      "-----------------------------------------------------------------------------\n"
     ]
    }
   ],
   "source": [
    "from sklearn.neighbors import KNeighborsClassifier\n",
    "\n",
    "x_train,x_test,y_train,y_test = train_test_split(data1_scaled,target,test_size = 0.17, random_state= 355)\n",
    "\n",
    "##################################################################################################\n",
    "\n",
    "# The following code is for finding accuracy for KNN \n",
    "\n",
    "##################################################################################################\n",
    "\n",
    "knn=KNeighborsClassifier()\n",
    "knn.fit(x_train,y_train)\n",
    "print('Acuracy for KNN before CV::::', knn.score(x_test,y_test))\n",
    "\n",
    "y_pred=knn.predict(x_test)\n",
    "print('Fl Score for KNN before CV::::', f1_score(y_test,y_pred))\n",
    "F1_KNN_Before_CV= f1_score(y_test,y_pred)\n",
    "knn_model_before_GSCV=knn\n",
    "\n",
    "print('-----------------------------------------------------------------------------')\n",
    "\n",
    "\n"
   ]
  },
  {
   "cell_type": "code",
   "execution_count": 45,
   "metadata": {},
   "outputs": [
    {
     "name": "stdout",
     "output_type": "stream",
     "text": [
      "Accuracy for Decision Treee after CV:::: 0.6293498557121032\n",
      "Fl Score for Decision Tree after CV:::: 0.6295070840756766\n"
     ]
    }
   ],
   "source": [
    "##################################################################################################\n",
    "# Following code is for finding model accuiracy for Decision Tree and storing F1 score\n",
    "##################################################################################################\n",
    "\n",
    "from scipy.stats import randint\n",
    "from sklearn.tree import DecisionTreeClassifier\n",
    "from sklearn.model_selection import train_test_split, RandomizedSearchCV, GridSearchCV\n",
    "\n",
    "\n",
    "# 0.763367 and 0.80620\n",
    "model_tree=DecisionTreeClassifier()\n",
    "\n",
    "#model_tree=DecisionTreeClassifier(criterion = 'gini', max_depth =3, min_samples_leaf= 6, min_samples_split= 8, splitter ='best')\n",
    "model_tree.fit(x_train,y_train)\n",
    "print('Accuracy for Decision Treee after CV::::', model_tree.score(x_test,y_test))\n",
    "\n",
    "\n",
    "y_pred=model_tree.predict(x_test)\n",
    "print('Fl Score for Decision Tree after CV::::', f1_score(y_test,y_pred))\n",
    "F1_DT_Before_CV= f1_score(y_test,y_pred)"
   ]
  },
  {
   "cell_type": "code",
   "execution_count": 46,
   "metadata": {},
   "outputs": [
    {
     "name": "stdout",
     "output_type": "stream",
     "text": [
      "Accuracy for SVC before CV:::: 0.7339003645200486\n",
      "Fl Score for SVC before CV:::: 0.7249607535321821\n"
     ]
    }
   ],
   "source": [
    "##################################################################################################\n",
    "\n",
    "# The following code is for finding accuracy for SVC\n",
    "\n",
    "##################################################################################################\n",
    "\n",
    "\n",
    "from sklearn.model_selection import train_test_split, RandomizedSearchCV, GridSearchCV\n",
    "from sklearn.svm import SVC\n",
    "\n",
    "\n",
    "x_train,x_test,y_train,y_test = train_test_split(data1_scaled,target,test_size = 0.19, random_state= 355)\n",
    "model_svc=SVC()\n",
    "\n",
    "model_svc.fit(x_train,y_train)\n",
    "\n",
    "print('Accuracy for SVC before CV::::', model_svc.score(x_test,y_test))\n",
    "\n",
    "y_pred=model_svc.predict(x_test)\n",
    "print('Fl Score for SVC before CV::::', f1_score(y_test,y_pred))\n",
    "F1_SVC_Before_CV= f1_score(y_test,y_pred)\n",
    "\n",
    "model__svc_before_RSCV=model_svc\n"
   ]
  },
  {
   "cell_type": "code",
   "execution_count": 47,
   "metadata": {},
   "outputs": [
    {
     "name": "stdout",
     "output_type": "stream",
     "text": [
      "RF Acccurcy before  CV 0.7295716889428918\n"
     ]
    }
   ],
   "source": [
    "##################################################################################################\n",
    "\n",
    "# The following code is for finding accuracy for RandomForest\n",
    "\n",
    "##################################################################################################\n",
    "\n",
    "from sklearn.ensemble import RandomForestClassifier\n",
    "# 72957 0.19\n",
    "x_train,x_test,y_train,y_test = train_test_split(data1_scaled,target,test_size = 0.19, random_state= 355)\n",
    "rand_clf = RandomForestClassifier(random_state=6)\n",
    "rand_clf.fit(x_train,y_train)\n",
    "print('RF Acccurcy before  CV',rand_clf.score(x_test,y_test))\n",
    "\n",
    "y_pred=rand_clf.predict(x_test)\n",
    "F1_RF_before_Hyper_score=f1_score(y_test,y_pred)\n",
    "\n"
   ]
  },
  {
   "cell_type": "code",
   "execution_count": 24,
   "metadata": {},
   "outputs": [
    {
     "data": {
      "text/plain": [
       "<sklearn.metrics._plot.roc_curve.RocCurveDisplay at 0x1e2566f5fa0>"
      ]
     },
     "execution_count": 24,
     "metadata": {},
     "output_type": "execute_result"
    },
    {
     "data": {
      "image/png": "[encoded data removed]",
      "text/plain": [
       "<Figure size 432x288 with 1 Axes>"
      ]
     },
     "metadata": {
      "needs_background": "light"
     },
     "output_type": "display_data"
    }
   ],
   "source": [
    "\n",
    "###################################################################################################################\n",
    "\n",
    "# Following code is for plotting AUC and ROC curve for all 5 models i-e Logistic Regression, KNN and Decision Tree\n",
    "\n",
    "#  SVC and Random Forest befoer PCA  \n",
    "\n",
    "###################################################################################################################\n",
    "\n",
    "from sklearn.metrics import plot_roc_curve\n",
    "disp=plot_roc_curve(log_reg_1,x_test,y_test)\n",
    "plot_roc_curve(knn,x_test,y_test,ax=disp.ax_)\n",
    "plot_roc_curve(model_tree,x_test,y_test,ax=disp.ax_)\n",
    "plot_roc_curve(model_svc,x_test,y_test,ax=disp.ax_)\n",
    "plot_roc_curve(rand_clf,x_test,y_test,ax=disp.ax_)"
   ]
  },
  {
   "cell_type": "raw",
   "metadata": {},
   "source": [
    "#####################################################################################################################\n",
    "\n",
    "# Stage 1 Analysis:\n",
    "\n",
    "\n",
    "                   Logistic Regression             KNN         Decision Tree             SVC         Random Forest\n",
    "                   \n",
    "Accuracy score::              0.728018        0.639025              0.632065        0.733900              0.729571\n",
    "\n",
    "ROC AUC       ::                  0.79            0.68                  0.63            0.79                  0.79\n",
    "\n",
    "Analysis: ROC-AUC is high for Logstic Regression, SVC and Random FOrest with a value of 0.79 \n",
    "          But SVC has more model accuracy so SVC should be chosen with a value of 0.733900\n",
    "          \n",
    "          WE need to see if PCA improves accuracy which is done below. We are discarding KNN and DEcison Tree as they have very\n",
    "          low accuracy compared to others. So decision Tree and KNN are not going into second stage.\n",
    " \n",
    "######################################################################################################################"
   ]
  },
  {
   "cell_type": "code",
   "execution_count": 49,
   "metadata": {},
   "outputs": [
    {
     "name": "stdout",
     "output_type": "stream",
     "text": [
      "(69301, 12)\n"
     ]
    },
    {
     "data": {
      "image/png": "[encoded data removed]",
      "text/plain": [
       "<Figure size 432x288 with 1 Axes>"
      ]
     },
     "metadata": {
      "needs_background": "light"
     },
     "output_type": "display_data"
    }
   ],
   "source": [
    "###################################################################################################################\n",
    "\n",
    "# Following code is for plotting PCA figure to check if we can reduce the no of features and achieve better accuracy\n",
    "\n",
    "###################################################################################################################\n",
    "\n",
    "from sklearn.decomposition import PCA\n",
    "print(data1_scaled.shape)\n",
    "\n",
    "\n",
    "import matplotlib.pyplot as plt\n",
    "import numpy as np\n",
    "pca = PCA()\n",
    "principalComponents = pca.fit_transform(data1_scaled)\n",
    "plt.figure()\n",
    "plt.plot(np.cumsum(pca.explained_variance_ratio_))\n",
    "plt.xlabel('Number of Components')\n",
    "plt.ylabel('Variance (%)') #for each component\n",
    "plt.title('Explained Variance')\n",
    "plt.show()"
   ]
  },
  {
   "cell_type": "code",
   "execution_count": 50,
   "metadata": {
    "scrolled": true
   },
   "outputs": [
    {
     "data": {
      "text/html": [
       "<div>\n",
       "<style scoped>\n",
       "    .dataframe tbody tr th:only-of-type {\n",
       "        vertical-align: middle;\n",
       "    }\n",
       "\n",
       "    .dataframe tbody tr th {\n",
       "        vertical-align: top;\n",
       "    }\n",
       "\n",
       "    .dataframe thead th {\n",
       "        text-align: right;\n",
       "    }\n",
       "</style>\n",
       "<table border=\"1\" class=\"dataframe\">\n",
       "  <thead>\n",
       "    <tr style=\"text-align: right;\">\n",
       "      <th></th>\n",
       "      <th>PC-1</th>\n",
       "      <th>PC-2</th>\n",
       "      <th>PC-3</th>\n",
       "      <th>PC-4</th>\n",
       "      <th>PC-5</th>\n",
       "      <th>PC-6</th>\n",
       "      <th>PC-7</th>\n",
       "      <th>PC-8</th>\n",
       "      <th>PC-9</th>\n",
       "      <th>PC-10</th>\n",
       "      <th>PC-11</th>\n",
       "    </tr>\n",
       "  </thead>\n",
       "  <tbody>\n",
       "    <tr>\n",
       "      <th>0</th>\n",
       "      <td>1.379768</td>\n",
       "      <td>1.831519</td>\n",
       "      <td>-0.677744</td>\n",
       "      <td>-0.001910</td>\n",
       "      <td>-1.632720</td>\n",
       "      <td>-0.222466</td>\n",
       "      <td>0.641820</td>\n",
       "      <td>-0.656190</td>\n",
       "      <td>-0.341000</td>\n",
       "      <td>0.038873</td>\n",
       "      <td>0.369671</td>\n",
       "    </tr>\n",
       "    <tr>\n",
       "      <th>1</th>\n",
       "      <td>0.651718</td>\n",
       "      <td>-1.260100</td>\n",
       "      <td>-0.132058</td>\n",
       "      <td>-0.237734</td>\n",
       "      <td>-1.636996</td>\n",
       "      <td>-0.643589</td>\n",
       "      <td>0.748617</td>\n",
       "      <td>1.543948</td>\n",
       "      <td>0.401770</td>\n",
       "      <td>0.092572</td>\n",
       "      <td>-0.022279</td>\n",
       "    </tr>\n",
       "    <tr>\n",
       "      <th>2</th>\n",
       "      <td>0.750101</td>\n",
       "      <td>-0.337102</td>\n",
       "      <td>0.114527</td>\n",
       "      <td>0.194414</td>\n",
       "      <td>-1.604780</td>\n",
       "      <td>-0.311924</td>\n",
       "      <td>0.622806</td>\n",
       "      <td>-1.111860</td>\n",
       "      <td>0.098144</td>\n",
       "      <td>-0.149550</td>\n",
       "      <td>0.229231</td>\n",
       "    </tr>\n",
       "    <tr>\n",
       "      <th>3</th>\n",
       "      <td>-4.052344</td>\n",
       "      <td>-1.220429</td>\n",
       "      <td>-3.494808</td>\n",
       "      <td>0.128796</td>\n",
       "      <td>-1.816847</td>\n",
       "      <td>0.533333</td>\n",
       "      <td>0.255292</td>\n",
       "      <td>1.107967</td>\n",
       "      <td>1.617007</td>\n",
       "      <td>0.009218</td>\n",
       "      <td>0.196859</td>\n",
       "    </tr>\n",
       "    <tr>\n",
       "      <th>4</th>\n",
       "      <td>1.597745</td>\n",
       "      <td>-0.220467</td>\n",
       "      <td>-0.567191</td>\n",
       "      <td>0.361202</td>\n",
       "      <td>-1.627636</td>\n",
       "      <td>-0.044917</td>\n",
       "      <td>0.499615</td>\n",
       "      <td>-1.700609</td>\n",
       "      <td>-0.167566</td>\n",
       "      <td>0.021245</td>\n",
       "      <td>0.261643</td>\n",
       "    </tr>\n",
       "    <tr>\n",
       "      <th>...</th>\n",
       "      <td>...</td>\n",
       "      <td>...</td>\n",
       "      <td>...</td>\n",
       "      <td>...</td>\n",
       "      <td>...</td>\n",
       "      <td>...</td>\n",
       "      <td>...</td>\n",
       "      <td>...</td>\n",
       "      <td>...</td>\n",
       "      <td>...</td>\n",
       "      <td>...</td>\n",
       "    </tr>\n",
       "    <tr>\n",
       "      <th>69296</th>\n",
       "      <td>-2.394574</td>\n",
       "      <td>-0.829590</td>\n",
       "      <td>-0.985373</td>\n",
       "      <td>0.168484</td>\n",
       "      <td>1.718982</td>\n",
       "      <td>-0.091311</td>\n",
       "      <td>-0.303964</td>\n",
       "      <td>-0.411472</td>\n",
       "      <td>-0.794702</td>\n",
       "      <td>2.191548</td>\n",
       "      <td>0.341200</td>\n",
       "    </tr>\n",
       "    <tr>\n",
       "      <th>69297</th>\n",
       "      <td>-0.030774</td>\n",
       "      <td>2.923807</td>\n",
       "      <td>1.101898</td>\n",
       "      <td>0.285224</td>\n",
       "      <td>1.696744</td>\n",
       "      <td>-0.620649</td>\n",
       "      <td>-0.149362</td>\n",
       "      <td>-0.552523</td>\n",
       "      <td>2.518022</td>\n",
       "      <td>1.003733</td>\n",
       "      <td>0.755976</td>\n",
       "    </tr>\n",
       "    <tr>\n",
       "      <th>69298</th>\n",
       "      <td>-3.888535</td>\n",
       "      <td>1.750934</td>\n",
       "      <td>-0.007102</td>\n",
       "      <td>-0.389192</td>\n",
       "      <td>1.471621</td>\n",
       "      <td>1.957142</td>\n",
       "      <td>-1.169339</td>\n",
       "      <td>0.552484</td>\n",
       "      <td>2.240432</td>\n",
       "      <td>-2.643675</td>\n",
       "      <td>-2.094565</td>\n",
       "    </tr>\n",
       "    <tr>\n",
       "      <th>69299</th>\n",
       "      <td>0.875406</td>\n",
       "      <td>0.938252</td>\n",
       "      <td>0.590898</td>\n",
       "      <td>-0.547264</td>\n",
       "      <td>1.500468</td>\n",
       "      <td>1.728192</td>\n",
       "      <td>-1.226408</td>\n",
       "      <td>-0.455481</td>\n",
       "      <td>-0.214252</td>\n",
       "      <td>-0.222526</td>\n",
       "      <td>1.384929</td>\n",
       "    </tr>\n",
       "    <tr>\n",
       "      <th>69300</th>\n",
       "      <td>0.341568</td>\n",
       "      <td>0.482880</td>\n",
       "      <td>0.173883</td>\n",
       "      <td>0.115853</td>\n",
       "      <td>1.749969</td>\n",
       "      <td>-0.513114</td>\n",
       "      <td>-0.162895</td>\n",
       "      <td>-0.259713</td>\n",
       "      <td>0.070952</td>\n",
       "      <td>-0.163545</td>\n",
       "      <td>-0.858492</td>\n",
       "    </tr>\n",
       "  </tbody>\n",
       "</table>\n",
       "<p>69301 rows × 11 columns</p>\n",
       "</div>"
      ],
      "text/plain": [
       "           PC-1      PC-2      PC-3      PC-4      PC-5      PC-6      PC-7  \\\n",
       "0      1.379768  1.831519 -0.677744 -0.001910 -1.632720 -0.222466  0.641820   \n",
       "1      0.651718 -1.260100 -0.132058 -0.237734 -1.636996 -0.643589  0.748617   \n",
       "2      0.750101 -0.337102  0.114527  0.194414 -1.604780 -0.311924  0.622806   \n",
       "3     -4.052344 -1.220429 -3.494808  0.128796 -1.816847  0.533333  0.255292   \n",
       "4      1.597745 -0.220467 -0.567191  0.361202 -1.627636 -0.044917  0.499615   \n",
       "...         ...       ...       ...       ...       ...       ...       ...   \n",
       "69296 -2.394574 -0.829590 -0.985373  0.168484  1.718982 -0.091311 -0.303964   \n",
       "69297 -0.030774  2.923807  1.101898  0.285224  1.696744 -0.620649 -0.149362   \n",
       "69298 -3.888535  1.750934 -0.007102 -0.389192  1.471621  1.957142 -1.169339   \n",
       "69299  0.875406  0.938252  0.590898 -0.547264  1.500468  1.728192 -1.226408   \n",
       "69300  0.341568  0.482880  0.173883  0.115853  1.749969 -0.513114 -0.162895   \n",
       "\n",
       "           PC-8      PC-9     PC-10     PC-11  \n",
       "0     -0.656190 -0.341000  0.038873  0.369671  \n",
       "1      1.543948  0.401770  0.092572 -0.022279  \n",
       "2     -1.111860  0.098144 -0.149550  0.229231  \n",
       "3      1.107967  1.617007  0.009218  0.196859  \n",
       "4     -1.700609 -0.167566  0.021245  0.261643  \n",
       "...         ...       ...       ...       ...  \n",
       "69296 -0.411472 -0.794702  2.191548  0.341200  \n",
       "69297 -0.552523  2.518022  1.003733  0.755976  \n",
       "69298  0.552484  2.240432 -2.643675 -2.094565  \n",
       "69299 -0.455481 -0.214252 -0.222526  1.384929  \n",
       "69300 -0.259713  0.070952 -0.163545 -0.858492  \n",
       "\n",
       "[69301 rows x 11 columns]"
      ]
     },
     "execution_count": 50,
     "metadata": {},
     "output_type": "execute_result"
    }
   ],
   "source": [
    "########################################################################\n",
    "# Out of 12, 11 components will give maximum variance\n",
    "#######################################################################\n",
    "pca = PCA(n_components=11)\n",
    "data1_scaled_1 = pca.fit_transform(data1_scaled)\n",
    "\n",
    "principal_x = pd.DataFrame(data1_scaled_1,columns=['PC-1','PC-2','PC-3','PC-4','PC-5','PC-6','PC-7','PC-8','PC-9','PC-10','PC-11'])\n",
    "principal_x"
   ]
  },
  {
   "cell_type": "code",
   "execution_count": 51,
   "metadata": {},
   "outputs": [
    {
     "name": "stdout",
     "output_type": "stream",
     "text": [
      "Accuracy for Logistic Regression with PCA Before CV:::: 0.7282806804374241\n"
     ]
    }
   ],
   "source": [
    "##################################################################################################\n",
    "\n",
    "# The following code is for finding accuracy for Logistic Regression with PCA(n=11)\n",
    "\n",
    "##################################################################################################\n",
    "\n",
    "x_train,x_test,y_train,y_test = train_test_split(principal_x,target,test_size = 0.19, random_state= 355)\n",
    "\n",
    "logistic_model=linear_model.LogisticRegression()\n",
    "logistic_model.fit(x_train,y_train)\n",
    "print('Accuracy for Logistic Regression with PCA Before CV::::',logistic_model.score(x_test,y_test))\n",
    "\n",
    "y_pred=logistic_model.predict(x_test)\n",
    "F1_LR_Before_CV_with_PCA_11=f1_score(y_test,y_pred,average='macro')"
   ]
  },
  {
   "cell_type": "code",
   "execution_count": 28,
   "metadata": {},
   "outputs": [
    {
     "name": "stdout",
     "output_type": "stream",
     "text": [
      "-----------------------------------------------------------------------------\n",
      "Fitting 5 folds for each of 40 candidates, totalling 200 fits\n"
     ]
    },
    {
     "name": "stderr",
     "output_type": "stream",
     "text": [
      "[Parallel(n_jobs=-1)]: Using backend LokyBackend with 4 concurrent workers.\n",
      "[Parallel(n_jobs=-1)]: Done  42 tasks      | elapsed:  1.5min\n",
      "[Parallel(n_jobs=-1)]: Done 192 tasks      | elapsed:  7.1min\n",
      "[Parallel(n_jobs=-1)]: Done 200 out of 200 | elapsed:  7.3min finished\n"
     ]
    },
    {
     "name": "stdout",
     "output_type": "stream",
     "text": [
      "Best Estimator:::: LogisticRegression(C=12.91549665014884, solver='liblinear')\n",
      "Best score:::: 0.718240669115619\n",
      "Best Params:::: {'C': 12.91549665014884, 'penalty': 'l2', 'solver': 'liblinear'}\n"
     ]
    }
   ],
   "source": [
    "##################################################################################################\n",
    "# Following code is for Hyper parameter tuning for Logistic Regression with PCA 11\n",
    "# C is inverse of regularization strength\n",
    "# l1 and l2 are penalities (lasso and ridge)\n",
    "# saga is used for large data \n",
    "##################################################################################################\n",
    "\n",
    "C = np.logspace(0, 10, num=10)\n",
    "\n",
    "penalty = ['l2','l1']\n",
    "solver = ['saga','liblinear']\n",
    "\n",
    "hyperparameters = dict(C=C, penalty=penalty, solver=solver)\n",
    "gridsearch = GridSearchCV(logistic_model, hyperparameters,verbose=1, n_jobs=-1)\n",
    "print('-----------------------------------------------------------------------------')\n",
    "\n",
    "best_model_random = gridsearch.fit(x_train,y_train)\n",
    "print('Best Estimator::::',best_model_random.best_estimator_)\n",
    "print('Best score::::', best_model_random.best_score_)\n",
    "print('Best Params::::',best_model_random.best_params_)"
   ]
  },
  {
   "cell_type": "code",
   "execution_count": 71,
   "metadata": {},
   "outputs": [
    {
     "name": "stdout",
     "output_type": "stream",
     "text": [
      " Accuracy score for Logistic Regression after CV with PCA:::: 0.7279769137302552\n"
     ]
    }
   ],
   "source": [
    "###########################################################################################################################\n",
    "\n",
    "# The following code finds the model accuracy after CV with PCA (n=11) for Logistic Regression\n",
    "\n",
    "###########################################################################################################################\n",
    "\n",
    "logistic_model=linear_model.LogisticRegression(C=12.91549665014884, penalty='l2', solver='liblinear')\n",
    "logistic_model.fit(x_train,y_train)\n",
    "print(' Accuracy score for Logistic Regression after CV with PCA::::', logistic_model.score(x_test,y_test))\n",
    "\n",
    "y_pred=logistic_model.predict(x_test)\n",
    "F1_LR_After_CV_with_PCA_11=f1_score(y_test,y_pred,average='macro')\n"
   ]
  },
  {
   "cell_type": "code",
   "execution_count": 72,
   "metadata": {},
   "outputs": [
    {
     "data": {
      "image/png": "[encoded data removed]",
      "text/plain": [
       "<Figure size 432x288 with 1 Axes>"
      ]
     },
     "metadata": {
      "needs_background": "light"
     },
     "output_type": "display_data"
    }
   ],
   "source": [
    "########################################################\n",
    "# Plotting ROC AUC curve for Logistic Regression with PCA\n",
    "########################################################\n",
    "\n",
    "disp=plot_roc_curve(logistic_model,x_test,y_test)"
   ]
  },
  {
   "cell_type": "code",
   "execution_count": 76,
   "metadata": {},
   "outputs": [
    {
     "name": "stdout",
     "output_type": "stream",
     "text": [
      "Accuracy for SVC before CV after PCA:::: 0.7339763061968408\n"
     ]
    }
   ],
   "source": [
    "\n",
    "##################################################################################################\n",
    "\n",
    "# The following code is to find the accuracy for SVC with PCA (n=11)\n",
    "\n",
    "##################################################################################################\n",
    "\n",
    "from sklearn.model_selection import train_test_split, RandomizedSearchCV, GridSearchCV\n",
    "from sklearn.svm import SVC\n",
    "x_train,x_test,y_train,y_test = train_test_split(principal_x,target,test_size = 0.19, random_state= 355)\n",
    "model_svc=SVC()\n",
    "\n",
    "model_svc.fit(x_train,y_train)\n",
    "\n",
    "print('Accuracy for SVC before CV after PCA::::', model_svc.score(x_test,y_test))\n",
    "\n",
    "y_pred=model_svc.predict(x_test)\n",
    "F1_SVC__before_CV_with_PCA_11=f1_score(y_test,y_pred,average='macro')\n"
   ]
  },
  {
   "cell_type": "code",
   "execution_count": 12,
   "metadata": {},
   "outputs": [
    {
     "name": "stdout",
     "output_type": "stream",
     "text": [
      "Best Estimator :::: SVC(C=500, gamma=0.01)\n",
      "Best score:::: 0.7305862319926205\n",
      "Best Params:::: {'gamma': 0.01, 'C': 500}\n",
      "-----------------------------------------------------------------------------\n"
     ]
    }
   ],
   "source": [
    "##################################################################################################\n",
    "\n",
    "# The following code performs the CV for SVC with PCA (n=11)\n",
    "\n",
    "##################################################################################################\n",
    "\n",
    "param_grid={'C':[0.1,1,10,50,100,500],'gamma':[1.0,0.5,0.1,0.01,0.001]}\n",
    "grid_svc= GridSearchCV(model_svc,param_grid)\n",
    "\n",
    "grid_svc.fit(x_train,y_train)\n",
    "\n",
    "print('Best Estimator ::::',grid_svc.best_estimator_)\n",
    "print('Best score::::', grid_svc.best_score_)\n",
    "print('Best Params::::',grid_svc.best_params_)\n",
    "\n",
    "print('-----------------------------------------------------------------------------')\n"
   ]
  },
  {
   "cell_type": "code",
   "execution_count": 77,
   "metadata": {},
   "outputs": [
    {
     "name": "stdout",
     "output_type": "stream",
     "text": [
      "SVC accuracy after hyper parameter tuning after PCA 0.7380012150668287\n"
     ]
    }
   ],
   "source": [
    "###########################################################################################################################\n",
    "\n",
    "# The following code finds the model accuracy after CV with PCA (n=11) for SVC\n",
    "\n",
    "###########################################################################################################################\n",
    "\n",
    "model_svc=SVC(C=500, gamma=0.01)\n",
    "model_svc.fit(x_train,y_train)\n",
    "print('SVC accuracy after hyper parameter tuning after PCA', model_svc.score(x_test,y_test))\n",
    "\n",
    "\n",
    "y_pred=model_svc.predict(x_test)\n",
    "F1_SVC__after_CV_with_PCA_11=f1_score(y_test,y_pred,average='macro')"
   ]
  },
  {
   "cell_type": "code",
   "execution_count": 78,
   "metadata": {},
   "outputs": [
    {
     "data": {
      "image/png": "[encoded data removed]",
      "text/plain": [
       "<Figure size 432x288 with 1 Axes>"
      ]
     },
     "metadata": {
      "needs_background": "light"
     },
     "output_type": "display_data"
    }
   ],
   "source": [
    "################################################################################\n",
    "# Plotting ROC AUC curve for SVC\n",
    "################################################################################\n",
    "\n",
    "disp4=plot_roc_curve(model_svc,x_test,y_test)"
   ]
  },
  {
   "cell_type": "code",
   "execution_count": 64,
   "metadata": {},
   "outputs": [
    {
     "name": "stdout",
     "output_type": "stream",
     "text": [
      "Accuracy for RF after PCA and before CV:::: 0.7129458917835672\n"
     ]
    }
   ],
   "source": [
    "from sklearn.ensemble import RandomForestClassifier\n",
    "##################################################################################################\n",
    "\n",
    "# The following code is for finding accuracy for Random Forest with PCA=11\n",
    "\n",
    "##################################################################################################\n",
    "\n",
    "x_train,x_test,y_train,y_test = train_test_split(principal_x,target,test_size = 0.18, random_state= 355)\n",
    "rand_clf = RandomForestClassifier(random_state=6)\n",
    "rand_clf.fit(x_train,y_train)\n",
    "print('Accuracy for RF after PCA and before CV::::',rand_clf.score(x_test,y_test))\n",
    "\n",
    "\n",
    "y_pred=rand_clf.predict(x_test)\n",
    "F1_RF_before_CV_with_PCA_11=f1_score(y_test,y_pred,average='macro')"
   ]
  },
  {
   "cell_type": "code",
   "execution_count": 80,
   "metadata": {},
   "outputs": [
    {
     "name": "stdout",
     "output_type": "stream",
     "text": [
      "RF Acccurcy before  CV 0.7295716889428918\n"
     ]
    }
   ],
   "source": [
    "##################################################################################################\n",
    "\n",
    "# The following code is for finding accuracy for RandomForest without PCA\n",
    "\n",
    "##################################################################################################\n",
    "\n",
    "from sklearn.ensemble import RandomForestClassifier\n",
    "# 72957 0.19\n",
    "x_train,x_test,y_train,y_test = train_test_split(data1_scaled,target,test_size = 0.19, random_state= 355)\n",
    "rand_clf = RandomForestClassifier(random_state=6)\n",
    "rand_clf.fit(x_train,y_train)\n",
    "print('RF Acccurcy before  CV',rand_clf.score(x_test,y_test))\n",
    "\n",
    "y_pred=rand_clf.predict(x_test)\n",
    "F1_RF_before_Hyper_score=f1_score(y_test,y_pred)\n"
   ]
  },
  {
   "cell_type": "code",
   "execution_count": 12,
   "metadata": {},
   "outputs": [
    {
     "name": "stdout",
     "output_type": "stream",
     "text": [
      "Fitting 4 folds for each of 192 candidates, totalling 768 fits\n"
     ]
    },
    {
     "name": "stderr",
     "output_type": "stream",
     "text": [
      "[Parallel(n_jobs=-1)]: Using backend LokyBackend with 4 concurrent workers.\n",
      "[Parallel(n_jobs=-1)]: Done  24 tasks      | elapsed:  1.9min\n",
      "[Parallel(n_jobs=-1)]: Done 120 tasks      | elapsed:  6.6min\n",
      "[Parallel(n_jobs=-1)]: Done 280 tasks      | elapsed: 22.2min\n",
      "[Parallel(n_jobs=-1)]: Done 504 tasks      | elapsed: 42.6min\n",
      "[Parallel(n_jobs=-1)]: Done 768 out of 768 | elapsed: 81.2min finished\n"
     ]
    },
    {
     "name": "stdout",
     "output_type": "stream",
     "text": [
      "Best Estimator :::: RandomForestClassifier(criterion='entropy', max_depth=12, min_samples_split=6,\n",
      "                       n_estimators=90, random_state=6)\n",
      "Best score:::: 0.7342739105437872\n",
      "Best Params:::: {'criterion': 'entropy', 'max_depth': 12, 'max_features': 'auto', 'min_samples_leaf': 1, 'min_samples_split': 6, 'n_estimators': 90}\n",
      "-----------------------------------------------------------------------------\n"
     ]
    }
   ],
   "source": [
    "##################################################################################################\n",
    "# Following code is for Hyper parameter tuning for Random Forest without PCA\n",
    "##################################################################################################\n",
    "\n",
    "grid_param = {\n",
    "    \"n_estimators\" : [90,100],\n",
    "    'criterion': ['gini', 'entropy'],\n",
    "    'max_depth' : range(2,20,5),\n",
    "    'min_samples_leaf' : range(1,10,4),\n",
    "    'min_samples_split': range(2,10,4),\n",
    "    'max_features' : ['auto','log2']\n",
    "}\n",
    "\n",
    "grid_search_RF = GridSearchCV(estimator=rand_clf,param_grid=grid_param,cv=4,n_jobs =-1,verbose = 3)\n",
    "grid_search_RF.fit(x_train,y_train)\n",
    "\n",
    "\n",
    "print('Best Estimator ::::',grid_search_RF.best_estimator_)\n",
    "print('Best score::::', grid_search_RF.best_score_)\n",
    "print('Best Params::::',grid_search_RF.best_params_)\n",
    "\n",
    "print('-----------------------------------------------------------------------------')"
   ]
  },
  {
   "cell_type": "code",
   "execution_count": 81,
   "metadata": {},
   "outputs": [
    {
     "name": "stdout",
     "output_type": "stream",
     "text": [
      "Accuracy for RF after PCA and after CV:::: 0.7386846901579587\n"
     ]
    }
   ],
   "source": [
    "\n",
    "###########################################################################################################################\n",
    "\n",
    "# The following code finds the model accuracy with CV with out PCA for Random FOrest\n",
    "\n",
    "###########################################################################################################################\n",
    "rand_clf = RandomForestClassifier(criterion='entropy', max_depth=12, min_samples_split=6,\n",
    "                       n_estimators=90, random_state=6)\n",
    "\n",
    "\n",
    "rand_clf.fit(x_train,y_train)\n",
    "print('Accuracy for RF after PCA and after CV::::',rand_clf.score(x_test,y_test))\n",
    "\n",
    "y_pred=rand_clf.predict(x_test)\n",
    "F1_RF_after_CV_with_out_PCA_11=f1_score(y_test,y_pred,average='macro')"
   ]
  },
  {
   "cell_type": "code",
   "execution_count": null,
   "metadata": {},
   "outputs": [],
   "source": []
  },
  {
   "cell_type": "code",
   "execution_count": 82,
   "metadata": {},
   "outputs": [
    {
     "data": {
      "image/png": "[encoded data removed]",
      "text/plain": [
       "<Figure size 432x288 with 1 Axes>"
      ]
     },
     "metadata": {
      "needs_background": "light"
     },
     "output_type": "display_data"
    }
   ],
   "source": [
    "################################################################################\n",
    "# Plotting ROC AUC curve for RF\n",
    "################################################################################\n",
    "\n",
    "disp2=plot_roc_curve(rand_clf,x_test,y_test)\n",
    "#plot_roc_curve(model_svc,x_test,y_test)"
   ]
  },
  {
   "cell_type": "code",
   "execution_count": null,
   "metadata": {},
   "outputs": [],
   "source": [
    "##################################################################\n",
    "\n",
    "#   F1 scores for all 3 models in various possibilities:\n",
    "\n",
    "#################################################################"
   ]
  },
  {
   "cell_type": "code",
   "execution_count": 67,
   "metadata": {},
   "outputs": [
    {
     "name": "stdout",
     "output_type": "stream",
     "text": [
      "F1 score for Logistic Regression before Grid Search CV :  0.7163280662151995\n",
      "F1 score for KNN before Randomized Search CV :  0.6352799931395248\n",
      "F1 score for Decision Tree before Randomized Search CV :  0.6295070840756766\n",
      "F1 score for SVC before Grid Search CV :  0.7249607535321821\n",
      "F1 score for RandomForest  before Grid Search CV :  0.7245726660994664\n",
      "-------------------------------------------------------------------------\n",
      "-------------------------------------------------------------------------\n",
      "F1 score for Logistic Regression before CV with PCA:  0.7278628042026786\n",
      "F1 score for SVC before CV with PCA:  0.7336883500707976\n",
      "F1 score for RandomForest before CV with PCA:  0.7129442317086825\n",
      "-------------------------------------------------------------------------\n",
      "F1 score for Logistic Regression after CV with PCA:  0.7280116722954533\n",
      "F1 score for SVC after CV with PCA:  0.7376289608615427\n",
      "F1 score for RandomForest after CV with out PCA:  0.7381134433302513\n"
     ]
    }
   ],
   "source": [
    "print('F1 score for Logistic Regression before Grid Search CV : ',F1_LR_Before_CV)\n",
    "print('F1 score for KNN before Randomized Search CV : ',F1_KNN_Before_CV)\n",
    "print('F1 score for Decision Tree before Randomized Search CV : ',F1_DT_Before_CV)\n",
    "print('F1 score for SVC before Grid Search CV : ',F1_SVC_Before_CV)\n",
    "print('F1 score for RandomForest  before Grid Search CV : ',F1_RF_before_Hyper_score)\n",
    "print('-------------------------------------------------------------------------')\n",
    "\n",
    "print('-------------------------------------------------------------------------')\n",
    "\n",
    "print('F1 score for Logistic Regression before CV with PCA: ',F1_LR_Before_CV_with_PCA_11)\n",
    "print('F1 score for SVC before CV with PCA: ',F1_SVC__before_CV_with_PCA_11)\n",
    "print('F1 score for RandomForest before CV with PCA: ',F1_RF_before_CV_with_PCA_11)\n",
    "\n",
    "print('-------------------------------------------------------------------------')\n",
    "\n",
    "print('F1 score for Logistic Regression after CV with PCA: ',F1_LR_After_CV_with_PCA_11)\n",
    "print('F1 score for SVC after CV with PCA: ',F1_SVC__after_CV_with_PCA_11)\n",
    "print('F1 score for RandomForest after CV with out PCA: ',F1_RF_after_CV_with_out_PCA_11)"
   ]
  },
  {
   "cell_type": "raw",
   "metadata": {},
   "source": [
    "#####################################################################################################################\n",
    "\n",
    "# Stage 2 Analysis:\n",
    "\n",
    "\n",
    "                            Logistic Regression                   SVC                  Random Forest\n",
    "                            \n",
    "Accuracy score without PCA::           0.728018              0.733900                       0.729571                      \n",
    "                   \n",
    "Accuracy score with PCA::              0.728280              0.733976                       0.712945\n",
    "\n",
    "Accuracy score after CV::              0.728432 (with PCA)   0.738001 (with PCA)            0.738684 (with out PCA) \n",
    "\n",
    "ROC AUC with PCA  after CV::               0.79                  0.79                           0.81\n",
    "\n",
    "\n",
    "\n",
    "Analysis:\n",
    "1) ROC-AUC is highest for Random Forest after Cross validation without PCA with a value of 0.81\n",
    "2) F1 score is highest for Random Forest after Cross validation without PCA with a value of 0.738113\n",
    "3) Model accuracy is also highest for Random Forest after Cross validation without PCA with a value of 0.738684\n",
    "\n",
    "So Random Forest without PCA with cross validation should be chosen with a accuracy value of 0.738684\n",
    "\n",
    "Note: Cross validation is not performed for RF with PCA as it has less score than without PCA. So CV is performed on RF without PCA.\n",
    "\n",
    "         \n",
    "######################################################################################################################"
   ]
  }
 ],
 "metadata": {
  "kernelspec": {
   "display_name": "Python 3",
   "language": "python",
   "name": "python3"
  },
  "language_info": {
   "codemirror_mode": {
    "name": "ipython",
    "version": 3
   },
   "file_extension": ".py",
   "mimetype": "text/x-python",
   "name": "python",
   "nbconvert_exporter": "python",
   "pygments_lexer": "ipython3",
   "version": "3.8.3"
  }
 },
 "nbformat": 4,
 "nbformat_minor": 4
}
